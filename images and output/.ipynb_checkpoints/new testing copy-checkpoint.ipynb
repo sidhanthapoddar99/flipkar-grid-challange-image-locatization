{
 "cells": [
  {
   "cell_type": "code",
   "execution_count": 1,
   "metadata": {},
   "outputs": [],
   "source": [
    "from sklearn.cluster import KMeans\n",
    "from collections import Counter\n",
    "import cv2\n",
    "%matplotlib inline\n",
    "import numpy as np \n",
    "from skimage import io\n",
    "from skimage import feature\n",
    "from skimage.color import rgb2gray\n",
    "import os\n",
    "from glob import glob\n",
    "from skimage import morphology"
   ]
  },
  {
   "cell_type": "code",
   "execution_count": 2,
   "metadata": {},
   "outputs": [],
   "source": [
    "#finding last or first pixeleted value\n",
    "def gety(img,t,sha):\n",
    "    \n",
    "    x=sha[0]\n",
    "    y=sha[1]\n",
    "    if(t==\"f\"):\n",
    "        for i in range(0,x):\n",
    "            for j in range(0,y):\n",
    "                if(img[i][j]==1):\n",
    "                    return i\n",
    "        #return 0\n",
    "        return int(y/5)\n",
    "    if(t==\"l\"):\n",
    "        for i in range(x-1,0,-1):\n",
    "            for j in range(0,y):\n",
    "                if(img[i][j]==1):\n",
    "                    return i   \n",
    "        #return y\n",
    "        return int(4*y/5)\n",
    "                \n",
    "def getx(img,t,sha):\n",
    "    \n",
    "    x=sha[0]\n",
    "    y=sha[1]\n",
    "    if(t==\"f\"):\n",
    "        for i in range(0,y):\n",
    "            for j in range(0,x):\n",
    "                if(img[j][i]==1):\n",
    "                    return i\n",
    "        #return 0\n",
    "        return int(x/5)\n",
    "    if(t==\"l\"):\n",
    "        for i in range(y-1,0,-1):\n",
    "            for j in range(0,x):\n",
    "                if(img[j][i]==1):\n",
    "                    return i   \n",
    "        #return x\n",
    "        return int(4*x/5)\n",
    "    return 0            "
   ]
  },
  {
   "cell_type": "code",
   "execution_count": 3,
   "metadata": {},
   "outputs": [],
   "source": [
    "def printimage(st,arr):\n",
    "    x,y,w,h = [arr[0],arr[2],arr[1]-arr[0],arr[3]-arr[2]]\n",
    "    img = cv2.imread(st)\n",
    "    a=cv2.rectangle(img,(x,y),(x+w,y+h),(0,255,0),5)\n",
    "    cv2.imwrite( \"./output/\"+st, a );"
   ]
  },
  {
   "cell_type": "code",
   "execution_count": 4,
   "metadata": {},
   "outputs": [],
   "source": [
    "def transform(arr,sha):\n",
    "    x=sha[0]\n",
    "    y=sha[1]\n",
    "    if arr[0]<int(x*0.02):\n",
    "        arr[0]=int(x*0.04)\n",
    "    if arr[1]>int(x*0.98):\n",
    "        arr[1]=int(x*0.96)\n",
    "    if arr[2]<int(y*0.02):\n",
    "        arr[2]=int(y*0.04)\n",
    "    if arr[3]>int(y*0.98):\n",
    "        arr[3]=int(x*0.96)"
   ]
  },
  {
   "cell_type": "code",
   "execution_count": 5,
   "metadata": {},
   "outputs": [],
   "source": [
    "def getcord(st):\n",
    "    x1=io.imread(st)\n",
    "    x2=rgb2gray(x1)\n",
    "    x3 = feature.canny(x2,0.8,.65,0.3)\n",
    "    x3 = morphology.remove_small_objects(x3, min_size=18, connectivity=5)\n",
    "    sha=x3.shape\n",
    "    arr=[getx(x3,\"f\",sha),getx(x3,\"l\",sha),gety(x3,\"f\",sha),gety(x3,\"l\",sha)]\n",
    "    transform(arr,sha)\n",
    "    #printimage(st,arr)\n",
    "    return(arr)"
   ]
  },
  {
   "cell_type": "code",
   "execution_count": 6,
   "metadata": {},
   "outputs": [],
   "source": [
    "import pandas as pd"
   ]
  },
  {
   "cell_type": "code",
   "execution_count": 7,
   "metadata": {},
   "outputs": [],
   "source": [
    "def load_images():\n",
    "    #images = []\n",
    "    #path = os.path.join(base_path, '*.png')\n",
    "    #print(path)\n",
    "    fin_values_df=pd.DataFrame([])\n",
    "    df = pd.read_csv(\"C:\\\\Users\\\\Sid\\\\Desktop\\\\python files\\\\Untitled Folder\\\\boundry function\\\\test.csv\")\n",
    "    imgname = list(df['image_name'])\n",
    "    \"\"\"\n",
    "    for i in glob(path):\n",
    "        print(i)\n",
    "        print(getcord(i),\"\\n\")\n",
    "        #getcord(i)\n",
    "        \"\"\"\n",
    "    #k=0\n",
    "    for i in imgname:\n",
    "        print(i)\n",
    "        #z=\"E:\\\\images\\\\images\\\\\"\n",
    "        z=\"C:\\\\Users\\\\Sid\\\\Desktop\\\\python files\\\\Untitled Folder\\\\boundry function\\\\images\\\\\"\n",
    "        val_df=pd.DataFrame([[i]+getcord(z+i)])\n",
    "        fin_values_df=pd.concat([fin_values_df,val_df],0)\n",
    "        #getcord(i\n",
    "        \"\"\"k+=1\n",
    "        if k==40:\n",
    "            \n",
    "            break\n",
    "           \"\"\" \n",
    "        \n",
    "    fin_values_df.to_csv(\"resultsfile2.csv\")"
   ]
  },
  {
   "cell_type": "code",
   "execution_count": 9,
   "metadata": {
    "scrolled": true
   },
   "outputs": [
    {
     "name": "stdout",
     "output_type": "stream",
     "text": [
      "1474723840903DSC08089.png\n",
      "1473231475010DeeplearnS11276.png\n",
      "JPEG_20161205_135307_1000155917326.png\n",
      "JPEG_20160711_123440_1000518778437.png\n",
      "JPEG_20160803_115329_100034020722.png\n",
      "147444974116511473239803010-Mast--Harbour-Men-Blue-Printed-Regular-Boat-Shoes-3651473239802717-2.png\n",
      "JPEG_20160622_110649_1000527459853.png\n",
      "JPEG_20160823_120737_1000784898268.png\n",
      "1480965956645IMG_3094.png\n",
      "14732348976417a565e40d545452688130062b267a2d2.png\n",
      "1474723374370DSC07852.png\n",
      "JPEG_20160820_111118_100011668802.png\n",
      "JPEG_20160706_105226_100087855419.png\n",
      "JPEG_20160621_155839_100073846506.png\n",
      "1480940089861_R2A1904.png\n",
      "1474637513144DSC06780.png\n",
      "JPEG_20161123_170015_1000183903221.png\n",
      "JPEG_20161205_152655_1000319785884.png\n",
      "14806550588121473324459p2-500x500.png\n",
      "JPEG_20160913_110021_1000554801748.png\n",
      "JPEG_20161028_113656_1000884495593.png\n",
      "1480485006674IMG_20161129_181135.png\n",
      "1468666217374JPEG_20160712_164026_1000951901481.png\n",
      "1475159286472DSC08150.png\n",
      "1473662770499DeeplearnS11593.png\n",
      "JPEG_20161121_172423_1000451802749.png\n",
      "JPEG_20160711_112635_1000386061474.png\n",
      "JPEG_20161125_170806_1000294132098.png\n",
      "1473664771684DeeplearnS11641.png\n",
      "JPEG_20161125_142000_1000881308475.png\n",
      "JPEG_20161118_130619_1000234318180.png\n",
      "JPEG_20161126_173920_1000722732321.png\n",
      "1480965914378IMG_3091.png\n",
      "JPEG_20161028_113801_1000834228994.png\n",
      "JPEG_20160527_132045_1000754722948.png\n",
      "1474630500639DSC08168.png\n",
      "1480604337122_R2A5871.png\n",
      "JPEG_20160526_131015_1000774672877.png\n",
      "JPEG_20161124_133820_1000408773191.png\n",
      "JPEG_20161202_175058_1000981167934.png\n",
      "JPEG_20160628_125830_1000217908431.png\n",
      "JPEG_20160820_160507_1000249071692.png\n",
      "JPEG_20160805_183420_1000172602371.png\n",
      "JPEG_20161130_165327_1000403284746.png\n",
      "JPEG_20160607_164241_1000166500949.png\n",
      "JPEG_20160625_121426_1000756352197.png\n",
      "147771816901820161028_154719.png\n",
      "JPEG_20161011_163049_1000951839162.png\n",
      "JPEG_20161117_185714_1000710683582.png\n",
      "JPEG_20161130_152547_1000951985749.png\n",
      "JPEG_20161208_180645_1000228838877.png\n",
      "JPEG_20161028_115228_1000768175676.png\n",
      "JPEG_20160621_115706_1000438377463.png\n",
      "147323496557220.png\n"
     ]
    },
    {
     "ename": "KeyboardInterrupt",
     "evalue": "",
     "output_type": "error",
     "traceback": [
      "\u001b[1;31m---------------------------------------------------------------------------\u001b[0m",
      "\u001b[1;31mKeyboardInterrupt\u001b[0m                         Traceback (most recent call last)",
      "\u001b[1;32m<timed eval>\u001b[0m in \u001b[0;36m<module>\u001b[1;34m\u001b[0m\n",
      "\u001b[1;32m<ipython-input-7-32e1d1774ab6>\u001b[0m in \u001b[0;36mload_images\u001b[1;34m()\u001b[0m\n\u001b[0;32m     17\u001b[0m         \u001b[1;31m#z=\"E:\\\\images\\\\images\\\\\"\u001b[0m\u001b[1;33m\u001b[0m\u001b[1;33m\u001b[0m\u001b[0m\n\u001b[0;32m     18\u001b[0m         \u001b[0mz\u001b[0m\u001b[1;33m=\u001b[0m\u001b[1;34m\"C:\\\\Users\\\\Sid\\\\Desktop\\\\python files\\\\Untitled Folder\\\\boundry function\\\\images\\\\\"\u001b[0m\u001b[1;33m\u001b[0m\u001b[0m\n\u001b[1;32m---> 19\u001b[1;33m         \u001b[0mval_df\u001b[0m\u001b[1;33m=\u001b[0m\u001b[0mpd\u001b[0m\u001b[1;33m.\u001b[0m\u001b[0mDataFrame\u001b[0m\u001b[1;33m(\u001b[0m\u001b[1;33m[\u001b[0m\u001b[1;33m[\u001b[0m\u001b[0mi\u001b[0m\u001b[1;33m]\u001b[0m\u001b[1;33m+\u001b[0m\u001b[0mgetcord\u001b[0m\u001b[1;33m(\u001b[0m\u001b[0mz\u001b[0m\u001b[1;33m+\u001b[0m\u001b[0mi\u001b[0m\u001b[1;33m)\u001b[0m\u001b[1;33m]\u001b[0m\u001b[1;33m)\u001b[0m\u001b[1;33m\u001b[0m\u001b[0m\n\u001b[0m\u001b[0;32m     20\u001b[0m         \u001b[0mfin_values_df\u001b[0m\u001b[1;33m=\u001b[0m\u001b[0mpd\u001b[0m\u001b[1;33m.\u001b[0m\u001b[0mconcat\u001b[0m\u001b[1;33m(\u001b[0m\u001b[1;33m[\u001b[0m\u001b[0mfin_values_df\u001b[0m\u001b[1;33m,\u001b[0m\u001b[0mval_df\u001b[0m\u001b[1;33m]\u001b[0m\u001b[1;33m,\u001b[0m\u001b[1;36m0\u001b[0m\u001b[1;33m)\u001b[0m\u001b[1;33m\u001b[0m\u001b[0m\n\u001b[0;32m     21\u001b[0m         \u001b[1;31m#getcord(i\u001b[0m\u001b[1;33m\u001b[0m\u001b[1;33m\u001b[0m\u001b[0m\n",
      "\u001b[1;32m<ipython-input-5-a584c67953c6>\u001b[0m in \u001b[0;36mgetcord\u001b[1;34m(st)\u001b[0m\n\u001b[0;32m      5\u001b[0m     \u001b[0mx3\u001b[0m \u001b[1;33m=\u001b[0m \u001b[0mmorphology\u001b[0m\u001b[1;33m.\u001b[0m\u001b[0mremove_small_objects\u001b[0m\u001b[1;33m(\u001b[0m\u001b[0mx3\u001b[0m\u001b[1;33m,\u001b[0m \u001b[0mmin_size\u001b[0m\u001b[1;33m=\u001b[0m\u001b[1;36m18\u001b[0m\u001b[1;33m,\u001b[0m \u001b[0mconnectivity\u001b[0m\u001b[1;33m=\u001b[0m\u001b[1;36m5\u001b[0m\u001b[1;33m)\u001b[0m\u001b[1;33m\u001b[0m\u001b[0m\n\u001b[0;32m      6\u001b[0m     \u001b[0msha\u001b[0m\u001b[1;33m=\u001b[0m\u001b[0mx3\u001b[0m\u001b[1;33m.\u001b[0m\u001b[0mshape\u001b[0m\u001b[1;33m\u001b[0m\u001b[0m\n\u001b[1;32m----> 7\u001b[1;33m     \u001b[0marr\u001b[0m\u001b[1;33m=\u001b[0m\u001b[1;33m[\u001b[0m\u001b[0mgetx\u001b[0m\u001b[1;33m(\u001b[0m\u001b[0mx3\u001b[0m\u001b[1;33m,\u001b[0m\u001b[1;34m\"f\"\u001b[0m\u001b[1;33m,\u001b[0m\u001b[0msha\u001b[0m\u001b[1;33m)\u001b[0m\u001b[1;33m,\u001b[0m\u001b[0mgetx\u001b[0m\u001b[1;33m(\u001b[0m\u001b[0mx3\u001b[0m\u001b[1;33m,\u001b[0m\u001b[1;34m\"l\"\u001b[0m\u001b[1;33m,\u001b[0m\u001b[0msha\u001b[0m\u001b[1;33m)\u001b[0m\u001b[1;33m,\u001b[0m\u001b[0mgety\u001b[0m\u001b[1;33m(\u001b[0m\u001b[0mx3\u001b[0m\u001b[1;33m,\u001b[0m\u001b[1;34m\"f\"\u001b[0m\u001b[1;33m,\u001b[0m\u001b[0msha\u001b[0m\u001b[1;33m)\u001b[0m\u001b[1;33m,\u001b[0m\u001b[0mgety\u001b[0m\u001b[1;33m(\u001b[0m\u001b[0mx3\u001b[0m\u001b[1;33m,\u001b[0m\u001b[1;34m\"l\"\u001b[0m\u001b[1;33m,\u001b[0m\u001b[0msha\u001b[0m\u001b[1;33m)\u001b[0m\u001b[1;33m]\u001b[0m\u001b[1;33m\u001b[0m\u001b[0m\n\u001b[0m\u001b[0;32m      8\u001b[0m     \u001b[0mtransform\u001b[0m\u001b[1;33m(\u001b[0m\u001b[0marr\u001b[0m\u001b[1;33m,\u001b[0m\u001b[0msha\u001b[0m\u001b[1;33m)\u001b[0m\u001b[1;33m\u001b[0m\u001b[0m\n\u001b[0;32m      9\u001b[0m     \u001b[1;31m#printimage(st,arr)\u001b[0m\u001b[1;33m\u001b[0m\u001b[1;33m\u001b[0m\u001b[0m\n",
      "\u001b[1;32m<ipython-input-2-36f99fcbf44a>\u001b[0m in \u001b[0;36mgetx\u001b[1;34m(img, t, sha)\u001b[0m\n\u001b[0;32m     33\u001b[0m         \u001b[1;32mfor\u001b[0m \u001b[0mi\u001b[0m \u001b[1;32min\u001b[0m \u001b[0mrange\u001b[0m\u001b[1;33m(\u001b[0m\u001b[0my\u001b[0m\u001b[1;33m-\u001b[0m\u001b[1;36m1\u001b[0m\u001b[1;33m,\u001b[0m\u001b[1;36m0\u001b[0m\u001b[1;33m,\u001b[0m\u001b[1;33m-\u001b[0m\u001b[1;36m1\u001b[0m\u001b[1;33m)\u001b[0m\u001b[1;33m:\u001b[0m\u001b[1;33m\u001b[0m\u001b[0m\n\u001b[0;32m     34\u001b[0m             \u001b[1;32mfor\u001b[0m \u001b[0mj\u001b[0m \u001b[1;32min\u001b[0m \u001b[0mrange\u001b[0m\u001b[1;33m(\u001b[0m\u001b[1;36m0\u001b[0m\u001b[1;33m,\u001b[0m\u001b[0mx\u001b[0m\u001b[1;33m)\u001b[0m\u001b[1;33m:\u001b[0m\u001b[1;33m\u001b[0m\u001b[0m\n\u001b[1;32m---> 35\u001b[1;33m                 \u001b[1;32mif\u001b[0m\u001b[1;33m(\u001b[0m\u001b[0mimg\u001b[0m\u001b[1;33m[\u001b[0m\u001b[0mj\u001b[0m\u001b[1;33m]\u001b[0m\u001b[1;33m[\u001b[0m\u001b[0mi\u001b[0m\u001b[1;33m]\u001b[0m\u001b[1;33m==\u001b[0m\u001b[1;36m1\u001b[0m\u001b[1;33m)\u001b[0m\u001b[1;33m:\u001b[0m\u001b[1;33m\u001b[0m\u001b[0m\n\u001b[0m\u001b[0;32m     36\u001b[0m                     \u001b[1;32mreturn\u001b[0m \u001b[0mi\u001b[0m\u001b[1;33m\u001b[0m\u001b[0m\n\u001b[0;32m     37\u001b[0m         \u001b[1;31m#return x\u001b[0m\u001b[1;33m\u001b[0m\u001b[1;33m\u001b[0m\u001b[0m\n",
      "\u001b[1;31mKeyboardInterrupt\u001b[0m: "
     ]
    }
   ],
   "source": [
    "%%time\n",
    "load_images()"
   ]
  },
  {
   "cell_type": "code",
   "execution_count": null,
   "metadata": {},
   "outputs": [],
   "source": []
  }
 ],
 "metadata": {
  "kernelspec": {
   "display_name": "Python 3",
   "language": "python",
   "name": "python3"
  },
  "language_info": {
   "codemirror_mode": {
    "name": "ipython",
    "version": 3
   },
   "file_extension": ".py",
   "mimetype": "text/x-python",
   "name": "python",
   "nbconvert_exporter": "python",
   "pygments_lexer": "ipython3",
   "version": "3.6.6"
  }
 },
 "nbformat": 4,
 "nbformat_minor": 2
}
